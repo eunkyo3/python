{
 "cells": [
  {
   "cell_type": "code",
   "execution_count": 1,
   "metadata": {},
   "outputs": [
    {
     "name": "stdout",
     "output_type": "stream",
     "text": [
      "123\\\n"
     ]
    }
   ],
   "source": [
    "# str()\n",
    "\n",
    "String = input()\n",
    "\n",
    "print(String)"
   ]
  },
  {
   "cell_type": "code",
   "execution_count": 2,
   "metadata": {},
   "outputs": [
    {
     "name": "stdout",
     "output_type": "stream",
     "text": [
      "2\n"
     ]
    }
   ],
   "source": [
    "# count\n",
    "\n",
    "print(\"Hello World!\".count(\"o\"))"
   ]
  },
  {
   "cell_type": "code",
   "execution_count": 3,
   "metadata": {},
   "outputs": [
    {
     "name": "stdout",
     "output_type": "stream",
     "text": [
      "True\n"
     ]
    }
   ],
   "source": [
    "print('a' in 'abc')"
   ]
  },
  {
   "cell_type": "code",
   "execution_count": 4,
   "metadata": {},
   "outputs": [
    {
     "name": "stdout",
     "output_type": "stream",
     "text": [
      "True\n"
     ]
    }
   ],
   "source": [
    "Email = input()\n",
    "\n",
    "print('@' in Email)"
   ]
  },
  {
   "cell_type": "code",
   "execution_count": 1,
   "metadata": {},
   "outputs": [
    {
     "name": "stdout",
     "output_type": "stream",
     "text": [
      "H\n",
      "e\n",
      "l\n",
      "l\n",
      "o\n"
     ]
    }
   ],
   "source": [
    "# list slicing\n",
    "\n",
    "s = 'Hello'\n",
    "print(s[0])\n",
    "print(s[1])\n",
    "print(s[2])\n",
    "print(s[3])\n",
    "print(s[4])"
   ]
  },
  {
   "cell_type": "code",
   "execution_count": 2,
   "metadata": {},
   "outputs": [
    {
     "name": "stdout",
     "output_type": "stream",
     "text": [
      "o\n"
     ]
    }
   ],
   "source": [
    "s = 'python'\n",
    "\n",
    "print(s[-2])"
   ]
  },
  {
   "cell_type": "code",
   "execution_count": 4,
   "metadata": {},
   "outputs": [
    {
     "name": "stdout",
     "output_type": "stream",
     "text": [
      "0\n",
      "6\n"
     ]
    }
   ],
   "source": [
    "# index()\n",
    "\n",
    "s = 'ascdefg'\n",
    "\n",
    "print(s.index('a'))\n",
    "print(s.index('g'))"
   ]
  },
  {
   "cell_type": "code",
   "execution_count": 8,
   "metadata": {},
   "outputs": [],
   "source": [
    "s = 'abcdefg'\n",
    "\n",
    "if 'h' in s :\n",
    "    print(s.index('a'))"
   ]
  },
  {
   "cell_type": "code",
   "execution_count": 10,
   "metadata": {},
   "outputs": [
    {
     "name": "stdout",
     "output_type": "stream",
     "text": [
      "010\n",
      "0-358\n"
     ]
    }
   ],
   "source": [
    "# s[start, stop, step]\n",
    "\n",
    "print('010-1234-5678'[0:3])\n",
    "print('010-1234-5678'[::3])"
   ]
  },
  {
   "cell_type": "code",
   "execution_count": 11,
   "metadata": {},
   "outputs": [
    {
     "name": "stdout",
     "output_type": "stream",
     "text": [
      "1234\n"
     ]
    }
   ],
   "source": [
    "print('010-1234-5678'[4:8])"
   ]
  },
  {
   "cell_type": "code",
   "execution_count": 15,
   "metadata": {},
   "outputs": [
    {
     "name": "stdout",
     "output_type": "stream",
     "text": [
      "cba\n"
     ]
    }
   ],
   "source": [
    "s = 'abc'\n",
    "\n",
    "reversed_s = s[::-1]\n",
    "print(reversed_s)"
   ]
  },
  {
   "cell_type": "code",
   "execution_count": 16,
   "metadata": {},
   "outputs": [
    {
     "name": "stdout",
     "output_type": "stream",
     "text": [
      "식박둥자갑천삼미루두와이북거무환수김\n"
     ]
    }
   ],
   "source": [
    "s = '김수환무거북이와두루미삼천갑자둥박식'\n",
    "\n",
    "print(s[::-1])"
   ]
  },
  {
   "cell_type": "code",
   "execution_count": 17,
   "metadata": {},
   "outputs": [
    {
     "name": "stdout",
     "output_type": "stream",
     "text": [
      "12짝1456789\n"
     ]
    }
   ],
   "source": [
    "s = '123456789'\n",
    "\n",
    "print(s.replace('3', '짝1'))"
   ]
  },
  {
   "cell_type": "code",
   "execution_count": 18,
   "metadata": {},
   "outputs": [
    {
     "name": "stdout",
     "output_type": "stream",
     "text": [
      "99000\n"
     ]
    }
   ],
   "source": [
    "s = '99,000'\n",
    "s = s.replace(',', \"\")\n",
    "print(s)"
   ]
  },
  {
   "cell_type": "code",
   "execution_count": 31,
   "metadata": {},
   "outputs": [
    {
     "name": "stdout",
     "output_type": "stream",
     "text": [
      "01012345678\n",
      "01012345678\n",
      "True\n"
     ]
    }
   ],
   "source": [
    "s1 = '01012345678'\n",
    "s2 = '010-1234-5678'\n",
    "\n",
    "s1 = s1.replace('-', \"\")\n",
    "s2 = s2.replace('-', \"\")\n",
    "\n",
    "print(s1)\n",
    "print(s2)\n",
    "print(s1 == s2)"
   ]
  },
  {
   "cell_type": "code",
   "execution_count": 34,
   "metadata": {},
   "outputs": [
    {
     "name": "stdout",
     "output_type": "stream",
     "text": [
      "ABC\n",
      "ABC\n",
      "abc\n",
      "abc\n",
      "False\n"
     ]
    }
   ],
   "source": [
    "User = 'ABC'\n",
    "NewUser = 'abc'\n",
    "\n",
    "print(User.upper())\n",
    "print(NewUser.upper())\n",
    "\n",
    "print(User.lower())\n",
    "print(NewUser.lower())\n",
    "\n",
    "User = User.upper\n",
    "NewUser = NewUser.upper\n",
    "\n",
    "print(User == NewUser)"
   ]
  },
  {
   "cell_type": "code",
   "execution_count": 35,
   "metadata": {},
   "outputs": [
    {
     "name": "stdout",
     "output_type": "stream",
     "text": [
      "이미 있는 이름 입니다.\n",
      "1\n"
     ]
    }
   ],
   "source": [
    "olduser = ['ABC', 'ddc']\n",
    "NewUser = 'abc'\n",
    "\n",
    "count = 0\n",
    "for i in olduser:\n",
    "    if i.upper() == NewUser.upper():\n",
    "        print(\"이미 있는 이름 입니다.\")\n",
    "        count += 1\n",
    "\n",
    "print(count)\n",
    "if count == 0 :\n",
    "    print(\"성공적으로 계정이 생성 되었습니다.\")     "
   ]
  },
  {
   "cell_type": "code",
   "execution_count": 36,
   "metadata": {},
   "outputs": [
    {
     "name": "stdout",
     "output_type": "stream",
     "text": [
      "a는 1 이고 b는 2 이다.\n"
     ]
    }
   ],
   "source": [
    "# f-string\n",
    "\n",
    "a = 1\n",
    "b = 2\n",
    "\n",
    "print('a는', a, '이고 b는', b, '이다.')"
   ]
  },
  {
   "cell_type": "code",
   "execution_count": 37,
   "metadata": {},
   "outputs": [
    {
     "name": "stdout",
     "output_type": "stream",
     "text": [
      "a는1이고 b는2이다.\n"
     ]
    }
   ],
   "source": [
    "print(f'a는{a}이고 b는{b}이다.')"
   ]
  },
  {
   "cell_type": "code",
   "execution_count": 53,
   "metadata": {},
   "outputs": [
    {
     "name": "stdout",
     "output_type": "stream",
     "text": [
      "3.1\n"
     ]
    }
   ],
   "source": [
    "pi = 3.14\n",
    "\n",
    "print(f'{pi:.1f}')"
   ]
  },
  {
   "cell_type": "code",
   "execution_count": 54,
   "metadata": {},
   "outputs": [
    {
     "name": "stdout",
     "output_type": "stream",
     "text": [
      "3.14\n"
     ]
    }
   ],
   "source": [
    "print(int(pi * 100)/100)"
   ]
  },
  {
   "cell_type": "code",
   "execution_count": 55,
   "metadata": {},
   "outputs": [
    {
     "name": "stdout",
     "output_type": "stream",
     "text": [
      "3.14\n"
     ]
    }
   ],
   "source": [
    "print(pi)"
   ]
  },
  {
   "cell_type": "code",
   "execution_count": 56,
   "metadata": {},
   "outputs": [
    {
     "name": "stdout",
     "output_type": "stream",
     "text": [
      "3.14\n"
     ]
    }
   ],
   "source": [
    "pi = 3.14159265358979323846264338327\n",
    "\n",
    "print(int(pi * 100)/100)"
   ]
  },
  {
   "cell_type": "code",
   "execution_count": 51,
   "metadata": {},
   "outputs": [
    {
     "name": "stdout",
     "output_type": "stream",
     "text": [
      "ff00\n",
      "FF00\n",
      "177400\n",
      "1111111100000000\n"
     ]
    }
   ],
   "source": [
    "x = 65280\n",
    "print(f'{x:x}')\n",
    "print(f'{x:X}')\n",
    "print(f'{x:o}')\n",
    "print(f'{x:b}')\n"
   ]
  },
  {
   "cell_type": "code",
   "execution_count": 57,
   "metadata": {},
   "outputs": [
    {
     "name": "stdout",
     "output_type": "stream",
     "text": [
      "*\n",
      "**\n",
      "****\n",
      "**\n",
      "*\n"
     ]
    }
   ],
   "source": [
    "print('*'*1)\n",
    "print('*'*2)\n",
    "print('*'*4)\n",
    "print('*'*2)\n",
    "print('*'*1)"
   ]
  },
  {
   "cell_type": "code",
   "execution_count": 65,
   "metadata": {},
   "outputs": [
    {
     "name": "stdout",
     "output_type": "stream",
     "text": [
      "&\n",
      "&&\n",
      "&&&\n",
      "&&&&\n",
      "&&&&&\n",
      "&&&&&&\n",
      "&&&&&&&\n",
      "&&&&&&&&\n",
      "&&&&&&&&&\n",
      "&&&&&&&&&&\n",
      "&&&&&&&&&&&\n",
      "&&&&&&&&&&&&\n"
     ]
    }
   ],
   "source": [
    "for i in range(int(input())):\n",
    "    print(\"&\" * (i+1))"
   ]
  },
  {
   "cell_type": "code",
   "execution_count": 64,
   "metadata": {},
   "outputs": [
    {
     "name": "stdout",
     "output_type": "stream",
     "text": [
      "& && &&& &&&& &&&&& &&&&&& &&&&&&& &&&&&&&& &&&&&&&&& &&&&&&&&&& &&&&&&&&&&& &&&&&&&&&&&& "
     ]
    }
   ],
   "source": [
    "for i in range(int(input())):\n",
    "    print(\"&\" * (i+1), end = ' ')"
   ]
  },
  {
   "cell_type": "code",
   "execution_count": 68,
   "metadata": {},
   "outputs": [
    {
     "name": "stdout",
     "output_type": "stream",
     "text": [
      "핫초고\n"
     ]
    }
   ],
   "source": [
    "temperature = 20\n",
    "if temperature >= 30:\n",
    "    print('아이스크림')\n",
    "else:\n",
    "    print('핫초고')"
   ]
  },
  {
   "cell_type": "code",
   "execution_count": 69,
   "metadata": {},
   "outputs": [
    {
     "name": "stdout",
     "output_type": "stream",
     "text": [
      "ice\n"
     ]
    }
   ],
   "source": [
    "if True:\n",
    "    print('ice')\n",
    "elif False:\n",
    "    print('hot choco')\n",
    "else:\n",
    "    print('컵라면')        "
   ]
  },
  {
   "cell_type": "code",
   "execution_count": 72,
   "metadata": {},
   "outputs": [
    {
     "name": "stdout",
     "output_type": "stream",
     "text": [
      "zero\n"
     ]
    }
   ],
   "source": [
    "l = 0\n",
    "if l == 0:\n",
    "    print('zero')"
   ]
  },
  {
   "cell_type": "code",
   "execution_count": 76,
   "metadata": {},
   "outputs": [
    {
     "name": "stdout",
     "output_type": "stream",
     "text": [
      "홀수\n",
      "홀수\n",
      "홀수\n"
     ]
    }
   ],
   "source": [
    "if int(input()) % 2 == 1 :\n",
    "    print('홀수')\n",
    "if int(input()) % 2 == 1 :\n",
    "    print('홀수')\n",
    "if int(input()) % 2 == 1 :\n",
    "    print('홀수')"
   ]
  },
  {
   "cell_type": "code",
   "execution_count": 77,
   "metadata": {},
   "outputs": [
    {
     "name": "stdout",
     "output_type": "stream",
     "text": [
      "1\n",
      "0\n",
      "1\n",
      "0\n",
      "1\n",
      "False\n",
      "True\n",
      "False\n",
      "True\n",
      "False\n",
      "True\n",
      "False\n",
      "True\n"
     ]
    }
   ],
   "source": [
    "print(1%2)\n",
    "print(2%2)\n",
    "print(3%2)\n",
    "print(4%2)\n",
    "print(5%2)\n",
    "\n",
    "print(1%2 == 0)\n",
    "print(2%2 == 0)\n",
    "print(3%2 == 0)\n",
    "print(4%2 == 0)\n",
    "print(5%2 == 0)\n",
    "\n",
    "print(1%2 == 1)\n",
    "print(2%2 == 1)\n",
    "print(3%2 == 1)\n",
    "\n"
   ]
  },
  {
   "cell_type": "code",
   "execution_count": 78,
   "metadata": {},
   "outputs": [
    {
     "name": "stdout",
     "output_type": "stream",
     "text": [
      "짝수\n",
      "홀수\n"
     ]
    }
   ],
   "source": [
    "if int(input()) % 2 == 1 :\n",
    "    print('홀수')\n",
    "else :\n",
    "    print('짝수')\n",
    "\n",
    "if int(input()) % 2 == 1 :\n",
    "    print('홀수')\n",
    "else :\n",
    "    print('홀수')"
   ]
  },
  {
   "cell_type": "code",
   "execution_count": 79,
   "metadata": {},
   "outputs": [
    {
     "name": "stdout",
     "output_type": "stream",
     "text": [
      "+\n"
     ]
    }
   ],
   "source": [
    "n = int(input())\n",
    "\n",
    "if n > 0:\n",
    "    print('+')\n",
    "elif n < 0:\n",
    "    print('-')\n",
    "else:\n",
    "    print(0)"
   ]
  },
  {
   "cell_type": "code",
   "execution_count": 80,
   "metadata": {},
   "outputs": [
    {
     "name": "stdout",
     "output_type": "stream",
     "text": [
      "레몬에이드 큰 사이즈 주문받음 ㅋ\n"
     ]
    }
   ],
   "source": [
    "# 메뉴(menu) : 레몬에이드, 핫초코\n",
    "# 사이즈(size) : 큰 사이즈, 작은 사이즈\n",
    "\n",
    "menu = input()\n",
    "size = input()\n",
    "\n",
    "if menu == '레모네이드':\n",
    "    if size == '큰 사이즈':\n",
    "        print('레몬에이드 큰 사이즈 주문받음 ㅋ')\n",
    "    else:\n",
    "        print('레모네이드 작은 사이즈 주문받음 ㅋ')\n",
    "elif menu == '핫초코':\n",
    "    if size == '큰 사이즈':\n",
    "        print('핫초코 큰 사이즈 주문받음 ㅋ')\n",
    "    else:\n",
    "        print('핫초코 작은 사이즈 주문받음 ㅋ')           "
   ]
  },
  {
   "cell_type": "code",
   "execution_count": 81,
   "metadata": {},
   "outputs": [],
   "source": [
    "n = int(input())\n",
    "\n",
    "if n < 1000:\n",
    "    if n % 2 == 0:\n",
    "        if n % 3 == 0:\n",
    "            if n % 5 == 0:\n",
    "                if n % 7 == 0:\n",
    "                    print('1000보다 작고 2, 3, 5, 7의 공배수', n)\n",
    "\n",
    "# 이것은 jargon(전문용어) if hell 이라고 함\n",
    "# if hell 에 빠지지 않도록 코드를 짜는것이 좋음                    "
   ]
  },
  {
   "cell_type": "code",
   "execution_count": 83,
   "metadata": {},
   "outputs": [
    {
     "name": "stdout",
     "output_type": "stream",
     "text": [
      "레모네이드큰 사이즈 입니노\n"
     ]
    }
   ],
   "source": [
    "# 메뉴(menu) : 레몬에이드, 핫초코\n",
    "# 사이즈(size) : 큰 사이즈, 작은 사이즈\n",
    "\n",
    "menu = input()\n",
    "size = input()\n",
    "p = ''\n",
    "\n",
    "if menu == '레모네이드':\n",
    "    p = '레모네이드'\n",
    "    \n",
    "else:\n",
    "    p = '핫초코'\n",
    "    \n",
    "if size == '큰 사이즈':\n",
    "    p += '큰 사이즈 입니노'\n",
    "else:\n",
    "    p += '작은 사이즈 입니노'  \n",
    "\n",
    "print(p)     "
   ]
  },
  {
   "cell_type": "code",
   "execution_count": 84,
   "metadata": {},
   "outputs": [
    {
     "name": "stdout",
     "output_type": "stream",
     "text": [
      "과체중\n"
     ]
    }
   ],
   "source": [
    "hight = 200 / 100\n",
    "weight = 100\n",
    "\n",
    "i = weight/(hight * hight)\n",
    "\n",
    "if 1 >= 25:\n",
    "    print('비만')\n",
    "elif i >= 23:\n",
    "    print('과체중')\n",
    "elif i >= 18.5:\n",
    "    print('정상')\n",
    "else:\n",
    "    print('저체중')       \n"
   ]
  }
 ],
 "metadata": {
  "kernelspec": {
   "display_name": "Python 3.10.8 64-bit (microsoft store)",
   "language": "python",
   "name": "python3"
  },
  "language_info": {
   "codemirror_mode": {
    "name": "ipython",
    "version": 3
   },
   "file_extension": ".py",
   "mimetype": "text/x-python",
   "name": "python",
   "nbconvert_exporter": "python",
   "pygments_lexer": "ipython3",
   "version": "3.10.8"
  },
  "orig_nbformat": 4,
  "vscode": {
   "interpreter": {
    "hash": "0979f9ec6f0f12d8e7e8c48307f494b03ae0407baa6f337085161b5cfb2e5e2b"
   }
  }
 },
 "nbformat": 4,
 "nbformat_minor": 2
}
