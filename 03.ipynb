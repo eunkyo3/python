{
 "cells": [
  {
   "cell_type": "code",
   "execution_count": 1,
   "metadata": {},
   "outputs": [],
   "source": [
    "# 반복문\n",
    "# python 의 반복문에는 for 와 while 이 있다."
   ]
  },
  {
   "cell_type": "code",
   "execution_count": 2,
   "metadata": {},
   "outputs": [
    {
     "name": "stdout",
     "output_type": "stream",
     "text": [
      "0\n",
      "1\n"
     ]
    }
   ],
   "source": [
    "for i in range(2):\n",
    "    print(i)"
   ]
  },
  {
   "cell_type": "code",
   "execution_count": 4,
   "metadata": {},
   "outputs": [
    {
     "name": "stdout",
     "output_type": "stream",
     "text": [
      "1\n",
      "2\n",
      "3\n",
      "4\n",
      "5\n",
      "6\n",
      "7\n",
      "8\n",
      "9\n"
     ]
    }
   ],
   "source": [
    "for i in range(1, 10):\n",
    "    print(i)"
   ]
  },
  {
   "cell_type": "code",
   "execution_count": 5,
   "metadata": {},
   "outputs": [],
   "source": [
    "# for i in range():\n",
    "# i = index 변수명 : for 문의 하위문에서 iterable의 한 개 의 값을 사용할떄 이용할 변수명\n",
    "# range() = iterable : 반복 가능한 대상\n",
    "# ':' 을 기준으로 들여써서 하위문을 만든다."
   ]
  },
  {
   "cell_type": "code",
   "execution_count": 6,
   "metadata": {},
   "outputs": [
    {
     "name": "stdout",
     "output_type": "stream",
     "text": [
      "0\n",
      "2\n",
      "4\n"
     ]
    },
    {
     "data": {
      "text/plain": [
       "'\\n0\\n2\\n4\\n'"
      ]
     },
     "execution_count": 6,
     "metadata": {},
     "output_type": "execute_result"
    }
   ],
   "source": [
    "for i in range(3):\n",
    "    print(i * 2)\n",
    "\n",
    "'''\n",
    "0\n",
    "2\n",
    "4\n",
    "'''"
   ]
  },
  {
   "cell_type": "code",
   "execution_count": 7,
   "metadata": {},
   "outputs": [
    {
     "name": "stdout",
     "output_type": "stream",
     "text": [
      "1\n",
      "3\n",
      "5\n"
     ]
    }
   ],
   "source": [
    "for i in range(1, 6, 2):\n",
    "    print(i)"
   ]
  },
  {
   "cell_type": "code",
   "execution_count": 8,
   "metadata": {},
   "outputs": [
    {
     "name": "stdout",
     "output_type": "stream",
     "text": [
      "2\n",
      "4\n",
      "6\n"
     ]
    }
   ],
   "source": [
    "for i in range(2, 7, 2):\n",
    "    print(i)"
   ]
  },
  {
   "cell_type": "code",
   "execution_count": 11,
   "metadata": {},
   "outputs": [
    {
     "name": "stdout",
     "output_type": "stream",
     "text": [
      "3번 정상\n",
      "4번 정상\n"
     ]
    }
   ],
   "source": [
    "for i in range(5):\n",
    "    x = input()\n",
    "    if x == '불량':\n",
    "        continue\n",
    "\n",
    "    print(f'{i}번 정상')       "
   ]
  },
  {
   "cell_type": "code",
   "execution_count": 15,
   "metadata": {},
   "outputs": [
    {
     "name": "stdout",
     "output_type": "stream",
     "text": [
      "1번이 반대표를 던졌습니다. 시팔색히\n",
      "이번 선거의 결과는찬성 입니다.\n"
     ]
    }
   ],
   "source": [
    "result = 'ㅋ'\n",
    "\n",
    "for i in range(5):\n",
    "    vote = input()\n",
    "    if vote == '찬성':\n",
    "        result = '찬성'\n",
    "        break\n",
    "    else :\n",
    "        result = '반대'\n",
    "        print(f'{1}번이 반대표를 던졌습니다. 시팔색히')\n",
    "\n",
    "print(f'이번 선거의 결과는{result} 입니다.')\n"
   ]
  },
  {
   "cell_type": "code",
   "execution_count": 18,
   "metadata": {},
   "outputs": [
    {
     "name": "stdout",
     "output_type": "stream",
     "text": [
      "0번이 찬성표를 던졌습니다. 시팔색히\n",
      "1번이 찬성표를 던졌습니다. 시팔색히\n",
      "2번이 찬성표를 던졌습니다. 시팔색히\n",
      "3번이 찬성표를 던졌습니다. 시팔색히\n",
      "이번 선거의 결과는반대 입니다.\n"
     ]
    }
   ],
   "source": [
    "result = 'ㅋ'\n",
    "\n",
    "for i in range(5):\n",
    "    vote = input()\n",
    "    if vote == '반대':\n",
    "        result = '반대'\n",
    "        break\n",
    "    else :\n",
    "        result = '찬성'\n",
    "        print(f'{i}번이 찬성표를 던졌습니다. 시팔색히')\n",
    "\n",
    "print(f'이번 선거의 결과는{result} 입니다.')"
   ]
  },
  {
   "cell_type": "code",
   "execution_count": 22,
   "metadata": {},
   "outputs": [
    {
     "name": "stdout",
     "output_type": "stream",
     "text": [
      "반대임. 5\n"
     ]
    }
   ],
   "source": [
    "# 0 = yesvote += 1\n",
    "# 1 = novote += 1\n",
    "yesvote = 0\n",
    "novote = 0\n",
    "\n",
    "for i in range(5):\n",
    "    vote = int(input())\n",
    "    if vote == 0:\n",
    "        yesvote += 1\n",
    "    elif vote == 1:\n",
    "        novote += 1\n",
    "    else:\n",
    "        print(\"제대로 입력해라 18\")\n",
    "\n",
    "if yesvote > novote:\n",
    "    print(\"정찬성입니다.\", yesvote)\n",
    "elif novote > yesvote:\n",
    "    print(\"반대임.\", novote)\n",
    "else:\n",
    "    print(\"꺼져\") \n"
   ]
  },
  {
   "cell_type": "code",
   "execution_count": 24,
   "metadata": {},
   "outputs": [
    {
     "name": "stdout",
     "output_type": "stream",
     "text": [
      "12\n",
      "123\n",
      "123\n",
      "1123\n"
     ]
    }
   ],
   "source": [
    "while True :\n",
    "    n = int(input())\n",
    "    if n == 999:\n",
    "        break\n",
    "    else :\n",
    "        print(n)"
   ]
  },
  {
   "cell_type": "code",
   "execution_count": 26,
   "metadata": {},
   "outputs": [
    {
     "name": "stdout",
     "output_type": "stream",
     "text": [
      "5050\n"
     ]
    }
   ],
   "source": [
    "n = 1\n",
    "s = 0\n",
    "while n <= 100:\n",
    "    s += n\n",
    "    n += 1\n",
    "\n",
    "print(s)"
   ]
  },
  {
   "cell_type": "code",
   "execution_count": 27,
   "metadata": {},
   "outputs": [],
   "source": [
    "for i in range(10):\n",
    "    pass"
   ]
  },
  {
   "cell_type": "code",
   "execution_count": 28,
   "metadata": {},
   "outputs": [
    {
     "name": "stdout",
     "output_type": "stream",
     "text": [
      "3\n"
     ]
    }
   ],
   "source": [
    "# 함수\n",
    "\n",
    "def add(a : int, b : int):\n",
    "    r = a + b\n",
    "    return r\n",
    "\n",
    "print(add(1, 2))\n",
    "\n",
    "# add = 함수의 이름\n",
    "# a, b = 인수 리스트\n",
    "# ':'\n",
    "# r = a + b : 함수에 종속된 하위 실행 코드\n",
    "# return : 함수에서 돌려줄 반환값을 지정\n",
    "# r = 반환값"
   ]
  },
  {
   "cell_type": "code",
   "execution_count": 29,
   "metadata": {},
   "outputs": [
    {
     "name": "stdout",
     "output_type": "stream",
     "text": [
      "20\n"
     ]
    }
   ],
   "source": [
    "def mul(a, b):\n",
    "    return a * b\n",
    "\n",
    "print(mul(4, 5))"
   ]
  },
  {
   "cell_type": "code",
   "execution_count": 32,
   "metadata": {},
   "outputs": [
    {
     "name": "stdout",
     "output_type": "stream",
     "text": [
      "6\n"
     ]
    }
   ],
   "source": [
    "def times(a, b):\n",
    "    return a * b\n",
    "\n",
    "a, b = map(int, input().split())\n",
    "print(times(a, b))  "
   ]
  },
  {
   "cell_type": "code",
   "execution_count": 31,
   "metadata": {},
   "outputs": [
    {
     "name": "stdout",
     "output_type": "stream",
     "text": [
      "-3\n"
     ]
    }
   ],
   "source": [
    "def func1(x):\n",
    "        return x+1\n",
    "def func2(x):\n",
    "        return x*2\n",
    "def func3(x):\n",
    "        return x-3\n",
    "\n",
    "print(func1(func2(func3(1))))        "
   ]
  },
  {
   "cell_type": "code",
   "execution_count": 33,
   "metadata": {},
   "outputs": [
    {
     "name": "stdout",
     "output_type": "stream",
     "text": [
      "10\n",
      "9\n",
      "8\n",
      "7\n",
      "6\n",
      "5\n",
      "4\n",
      "3\n",
      "2\n",
      "1\n"
     ]
    }
   ],
   "source": [
    "def CountDown(n):\n",
    "    if n == 0:\n",
    "        return\n",
    "    print(n)\n",
    "    CountDown(n-1)\n",
    "CountDown(10)"
   ]
  },
  {
   "cell_type": "code",
   "execution_count": 35,
   "metadata": {},
   "outputs": [
    {
     "name": "stdout",
     "output_type": "stream",
     "text": [
      "None\n"
     ]
    }
   ],
   "source": [
    "def my_big_function():\n",
    "    pass\n",
    "\n",
    "print(my_big_function())"
   ]
  }
 ],
 "metadata": {
  "kernelspec": {
   "display_name": "Python 3.10.8 64-bit (microsoft store)",
   "language": "python",
   "name": "python3"
  },
  "language_info": {
   "codemirror_mode": {
    "name": "ipython",
    "version": 3
   },
   "file_extension": ".py",
   "mimetype": "text/x-python",
   "name": "python",
   "nbconvert_exporter": "python",
   "pygments_lexer": "ipython3",
   "version": "3.10.8"
  },
  "orig_nbformat": 4,
  "vscode": {
   "interpreter": {
    "hash": "0979f9ec6f0f12d8e7e8c48307f494b03ae0407baa6f337085161b5cfb2e5e2b"
   }
  }
 },
 "nbformat": 4,
 "nbformat_minor": 2
}
